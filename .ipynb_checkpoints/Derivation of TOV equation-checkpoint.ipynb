{
 "cells": [
  {
   "cell_type": "code",
   "execution_count": 1,
   "id": "8ec0ff39",
   "metadata": {},
   "outputs": [],
   "source": [
    "import pytearcat as pt\n",
    "import sympy as sp"
   ]
  },
  {
   "cell_type": "code",
   "execution_count": 2,
   "id": "8ee66fe9",
   "metadata": {},
   "outputs": [
    {
     "name": "stdout",
     "output_type": "stream",
     "text": [
      "['Abs', 'AccumBounds', 'Add', 'Adjoint', 'AlgebraicField', 'AlgebraicNumber', 'And', 'AppliedPredicate', 'Array', 'AssumptionsContext', 'Atom', 'AtomicExpr', 'BasePolynomialError', 'Basic', 'BlockDiagMatrix', 'BlockMatrix', 'CC', 'CRootOf', 'Catalan', 'Chi', 'Ci', 'Circle', 'CoercionFailed', 'Complement', 'ComplexField', 'ComplexRegion', 'ComplexRootOf', 'Complexes', 'ComputationFailed', 'ConditionSet', 'Contains', 'CosineTransform', 'Curve', 'DeferredVector', 'DenseNDimArray', 'Derivative', 'Determinant', 'DiagMatrix', 'DiagonalMatrix', 'DiagonalOf', 'Dict', 'DiracDelta', 'DisjointUnion', 'Domain', 'DomainError', 'DotProduct', 'Dummy', 'E', 'E1', 'EPath', 'EX', 'EXRAW', 'Ei', 'Eijk', 'Ellipse', 'EmptySequence', 'EmptySet', 'Eq', 'Equality', 'Equivalent', 'EulerGamma', 'EvaluationFailed', 'ExactQuotientFailed', 'Expr', 'ExpressionDomain', 'ExtraneousFactors', 'FF', 'FF_gmpy', 'FF_python', 'FU', 'FallingFactorial', 'FiniteField', 'FiniteSet', 'FlagError', 'Float', 'FourierTransform', 'FractionField', 'Function', 'FunctionClass', 'FunctionMatrix', 'GF', 'GMPYFiniteField', 'GMPYIntegerRing', 'GMPYRationalField', 'Ge', 'GeneratorsError', 'GeneratorsNeeded', 'GeometryError', 'GoldenRatio', 'GramSchmidt', 'GreaterThan', 'GroebnerBasis', 'Gt', 'HadamardPower', 'HadamardProduct', 'HankelTransform', 'Heaviside', 'HeuristicGCDFailed', 'HomomorphismFailed', 'I', 'ITE', 'Id', 'Identity', 'Idx', 'ImageSet', 'ImmutableDenseMatrix', 'ImmutableDenseNDimArray', 'ImmutableMatrix', 'ImmutableSparseMatrix', 'ImmutableSparseNDimArray', 'Implies', 'Indexed', 'IndexedBase', 'Integer', 'IntegerRing', 'Integers', 'Integral', 'Intersection', 'Interval', 'Inverse', 'InverseCosineTransform', 'InverseFourierTransform', 'InverseHankelTransform', 'InverseLaplaceTransform', 'InverseMellinTransform', 'InverseSineTransform', 'IsomorphismFailed', 'KroneckerDelta', 'KroneckerProduct', 'LC', 'LM', 'LT', 'Lambda', 'LambertW', 'LaplaceTransform', 'Le', 'LessThan', 'LeviCivita', 'Li', 'Limit', 'Line', 'Line2D', 'Line3D', 'Lt', 'MatAdd', 'MatMul', 'MatPow', 'Matrix', 'MatrixBase', 'MatrixExpr', 'MatrixPermute', 'MatrixSlice', 'MatrixSymbol', 'Max', 'MellinTransform', 'Min', 'Mod', 'Monomial', 'Mul', 'MultivariatePolynomialError', 'MutableDenseMatrix', 'MutableDenseNDimArray', 'MutableMatrix', 'MutableSparseMatrix', 'MutableSparseNDimArray', 'N', 'NDimArray', 'Nand', 'Naturals', 'Naturals0', 'Ne', 'NonSquareMatrixError', 'Nor', 'Not', 'NotAlgebraic', 'NotInvertible', 'NotReversible', 'Number', 'NumberSymbol', 'O', 'OmegaPower', 'OneMatrix', 'OperationNotSupported', 'OptionError', 'Options', 'Or', 'Order', 'Ordinal', 'POSform', 'Parabola', 'Permanent', 'PermutationMatrix', 'Piecewise', 'Plane', 'Point', 'Point2D', 'Point3D', 'PoleError', 'PolificationFailed', 'Poly', 'Polygon', 'PolynomialDivisionFailed', 'PolynomialError', 'PolynomialRing', 'Pow', 'PowerSet', 'PrecisionExhausted', 'Predicate', 'Product', 'ProductSet', 'PurePoly', 'PythonFiniteField', 'PythonIntegerRing', 'PythonRational', 'Q', 'QQ', 'QQ_I', 'QQ_gmpy', 'QQ_python', 'Quaternion', 'RR', 'Range', 'Rational', 'RationalField', 'Rationals', 'Ray', 'Ray2D', 'Ray3D', 'RealField', 'RealNumber', 'Reals', 'RefinementFailed', 'RegularPolygon', 'Rel', 'Rem', 'RisingFactorial', 'RootOf', 'RootSum', 'S', 'SOPform', 'SYMPY_DEBUG', 'Segment', 'Segment2D', 'Segment3D', 'SeqAdd', 'SeqFormula', 'SeqMul', 'SeqPer', 'Set', 'ShapeError', 'Shi', 'Si', 'Sieve', 'SineTransform', 'SingularityFunction', 'SparseMatrix', 'SparseNDimArray', 'StrPrinter', 'StrictGreaterThan', 'StrictLessThan', 'Subs', 'Sum', 'Symbol', 'SymmetricDifference', 'SympifyError', 'TableForm', 'Trace', 'Transpose', 'Triangle', 'TribonacciConstant', 'Tuple', 'Unequality', 'UnevaluatedExpr', 'UnificationFailed', 'Union', 'UnivariatePolynomialError', 'UniversalSet', 'Wild', 'WildFunction', 'Xor', 'Ynm', 'Ynm_c', 'ZZ', 'ZZ_I', 'ZZ_gmpy', 'ZZ_python', 'ZeroMatrix', 'Znm', '__all__', '__builtins__', '__cached__', '__doc__', '__file__', '__loader__', '__name__', '__package__', '__path__', '__spec__', '__sympy_debug', '__version__', 'abundance', 'acos', 'acosh', 'acot', 'acoth', 'acsc', 'acsch', 'adjoint', 'airyai', 'airyaiprime', 'airybi', 'airybiprime', 'algebras', 'andre', 'apart', 'apart_list', 'appellf1', 'apply_finite_diff', 'approximants', 'are_similar', 'arg', 'arity', 'asec', 'asech', 'asin', 'asinh', 'ask', 'assemble_partfrac_list', 'assoc_laguerre', 'assoc_legendre', 'assuming', 'assumptions', 'atan', 'atan2', 'atanh', 'banded', 'bell', 'bernoulli', 'besseli', 'besselj', 'besselk', 'besselsimp', 'bessely', 'beta', 'betainc', 'betainc_regularized', 'binomial', 'binomial_coefficients', 'binomial_coefficients_list', 'block_collapse', 'blockcut', 'bool_map', 'bottom_up', 'bspline_basis', 'bspline_basis_set', 'cacheit', 'calculus', 'cancel', 'capture', 'carmichael', 'cartes', 'casoratian', 'catalan', 'cbrt', 'ccode', 'ceiling', 'centroid', 'chebyshevt', 'chebyshevt_poly', 'chebyshevt_root', 'chebyshevu', 'chebyshevu_poly', 'chebyshevu_root', 'check_assumptions', 'checkodesol', 'checkpdesol', 'checksol', 'classify_ode', 'classify_pde', 'closest_points', 'cofactors', 'collect', 'collect_const', 'combsimp', 'comp', 'compose', 'composite', 'compositepi', 'concrete', 'conjugate', 'construct_domain', 'content', 'continued_fraction', 'continued_fraction_convergents', 'continued_fraction_iterator', 'continued_fraction_periodic', 'continued_fraction_reduce', 'convex_hull', 'convolution', 'core', 'cos', 'cosh', 'cosine_transform', 'cot', 'coth', 'count_ops', 'count_roots', 'covering_product', 'csc', 'csch', 'cse', 'cxxcode', 'cycle_length', 'cyclotomic_poly', 'decompogen', 'decompose', 'default_sort_key', 'deg', 'degree', 'degree_list', 'denom', 'derive_by_array', 'det', 'det_quick', 'diag', 'diagonalize_vector', 'dict_merge', 'diff', 'difference_delta', 'differentiate_finite', 'digamma', 'diophantine', 'dirichlet_eta', 'discrete', 'discrete_log', 'discriminant', 'div', 'divisor_count', 'divisor_sigma', 'divisors', 'doctest', 'dotprint', 'dsolve', 'egyptian_fraction', 'elliptic_e', 'elliptic_f', 'elliptic_k', 'elliptic_pi', 'epath', 'erf', 'erf2', 'erf2inv', 'erfc', 'erfcinv', 'erfi', 'erfinv', 'euler', 'euler_equations', 'evalf', 'evaluate', 'exp', 'exp_polar', 'expand', 'expand_complex', 'expand_func', 'expand_log', 'expand_mul', 'expand_multinomial', 'expand_power_base', 'expand_power_exp', 'expand_trig', 'expint', 'exptrigsimp', 'exquo', 'external', 'eye', 'factor', 'factor_list', 'factor_nc', 'factor_terms', 'factorial', 'factorial2', 'factorint', 'factorrat', 'failing_assumptions', 'false', 'farthest_points', 'fcode', 'ff', 'fft', 'fibonacci', 'field', 'field_isomorphism', 'filldedent', 'finite_diff_weights', 'flatten', 'floor', 'fourier_series', 'fourier_transform', 'fps', 'frac', 'fraction', 'fresnelc', 'fresnels', 'fu', 'functions', 'fwht', 'galois_group', 'gamma', 'gammasimp', 'gcd', 'gcd_list', 'gcd_terms', 'gcdex', 'gegenbauer', 'genocchi', 'geometry', 'get_contraction_structure', 'get_indices', 'gff', 'gff_list', 'glsl_code', 'grevlex', 'grlex', 'groebner', 'ground_roots', 'group', 'gruntz', 'hadamard_product', 'half_gcdex', 'hankel1', 'hankel2', 'hankel_transform', 'harmonic', 'has_dups', 'has_variety', 'hermite', 'hermite_poly', 'hermite_prob', 'hermite_prob_poly', 'hessian', 'hn1', 'hn2', 'homogeneous_order', 'horner', 'hyper', 'hyperexpand', 'hypersimilar', 'hypersimp', 'idiff', 'ifft', 'ifwht', 'igcd', 'igrevlex', 'igrlex', 'ilcm', 'ilex', 'im', 'imageset', 'init_printing', 'init_session', 'integer_log', 'integer_nthroot', 'integrals', 'integrate', 'interactive', 'interactive_traversal', 'interpolate', 'interpolating_poly', 'interpolating_spline', 'intersecting_product', 'intersection', 'intervals', 'intt', 'inv_quick', 'inverse_cosine_transform', 'inverse_fourier_transform', 'inverse_hankel_transform', 'inverse_laplace_transform', 'inverse_mellin_transform', 'inverse_mobius_transform', 'inverse_sine_transform', 'invert', 'is_abundant', 'is_amicable', 'is_convex', 'is_decreasing', 'is_deficient', 'is_increasing', 'is_mersenne_prime', 'is_monotonic', 'is_nthpow_residue', 'is_perfect', 'is_primitive_root', 'is_quad_residue', 'is_strictly_decreasing', 'is_strictly_increasing', 'is_zero_dimensional', 'isolate', 'isprime', 'itermonomials', 'jacobi', 'jacobi_normalized', 'jacobi_poly', 'jacobi_symbol', 'jn', 'jn_zeros', 'jordan_cell', 'jscode', 'julia_code', 'kronecker_product', 'kroneckersimp', 'laguerre', 'laguerre_poly', 'lambdify', 'laplace_transform', 'latex', 'lazy_function', 'lcm', 'lcm_list', 'legendre', 'legendre_poly', 'legendre_symbol', 'lerchphi', 'lex', 'li', 'limit', 'limit_seq', 'line_integrate', 'linear_eq_to_matrix', 'linsolve', 'list2numpy', 'ln', 'log', 'logcombine', 'loggamma', 'logic', 'lowergamma', 'lucas', 'maple_code', 'marcumq', 'mathematica_code', 'mathieuc', 'mathieucprime', 'mathieus', 'mathieusprime', 'mathml', 'matrices', 'matrix2numpy', 'matrix_multiply_elementwise', 'matrix_symbols', 'maximum', 'meijerg', 'mellin_transform', 'memoize_property', 'mersenne_prime_exponent', 'minimal_polynomial', 'minimum', 'minpoly', 'mobius', 'mobius_transform', 'mod_inverse', 'monic', 'motzkin', 'multigamma', 'multiline_latex', 'multinomial_coefficients', 'multipledispatch', 'multiplicity', 'n_order', 'nan', 'nextprime', 'nfloat', 'nonlinsolve', 'not_empty_in', 'npartitions', 'nroots', 'nsimplify', 'nsolve', 'nth_power_roots_poly', 'ntheory', 'nthroot_mod', 'ntt', 'numbered_symbols', 'numer', 'octave_code', 'ode_order', 'ones', 'oo', 'ord0', 'ordered', 'pager_print', 'parallel_poly_from_expr', 'parse_expr', 'parsing', 'partition', 'pde_separate', 'pde_separate_add', 'pde_separate_mul', 'pdiv', 'pdsolve', 'per', 'perfect_power', 'periodic_argument', 'periodicity', 'permutedims', 'pexquo', 'pi', 'piecewise_exclusive', 'piecewise_fold', 'plot', 'plot_backends', 'plot_implicit', 'plot_parametric', 'plotting', 'polar_lift', 'polarify', 'pollard_pm1', 'pollard_rho', 'poly', 'poly_from_expr', 'polygamma', 'polylog', 'polys', 'posify', 'postfixes', 'postorder_traversal', 'powdenest', 'powsimp', 'pprint', 'pprint_try_use_unicode', 'pprint_use_unicode', 'pquo', 'prefixes', 'prem', 'preorder_traversal', 'pretty', 'pretty_print', 'preview', 'prevprime', 'prime', 'prime_decomp', 'prime_valuation', 'primefactors', 'primenu', 'primeomega', 'primepi', 'primerange', 'primitive', 'primitive_element', 'primitive_root', 'primorial', 'principal_branch', 'print_ccode', 'print_fcode', 'print_glsl', 'print_gtk', 'print_jscode', 'print_latex', 'print_maple_code', 'print_mathml', 'print_python', 'print_rcode', 'print_tree', 'printing', 'prod', 'product', 'proper_divisor_count', 'proper_divisors', 'public', 'pycode', 'python', 'quadratic_congruence', 'quadratic_residues', 'quo', 'rad', 'radsimp', 'randMatrix', 'random_poly', 'randprime', 'rational_interpolate', 'ratsimp', 'ratsimpmodprime', 'rcode', 'rcollect', 're', 'real_root', 'real_roots', 'reduce_abs_inequalities', 'reduce_abs_inequality', 'reduce_inequalities', 'reduced', 'reduced_totient', 'refine', 'refine_root', 'register_handler', 'release', 'rem', 'remove_handler', 'reshape', 'residue', 'resultant', 'rf', 'riemann_xi', 'ring', 'root', 'rootof', 'roots', 'rot_axis1', 'rot_axis2', 'rot_axis3', 'rot_ccw_axis1', 'rot_ccw_axis2', 'rot_ccw_axis3', 'rot_givens', 'rotations', 'round_two', 'rsolve', 'rsolve_hyper', 'rsolve_poly', 'rsolve_ratio', 'rust_code', 'satisfiable', 'sec', 'sech', 'separatevars', 'sequence', 'series', 'seterr', 'sets', 'sfield', 'shape', 'sieve', 'sift', 'sign', 'signsimp', 'simplify', 'simplify_logic', 'sin', 'sinc', 'sine_transform', 'singularities', 'singularityintegrate', 'sinh', 'smtlib_code', 'solve', 'solve_linear', 'solve_linear_system', 'solve_linear_system_LU', 'solve_poly_inequality', 'solve_poly_system', 'solve_rational_inequalities', 'solve_triangulated', 'solve_undetermined_coeffs', 'solve_univariate_inequality', 'solvers', 'solveset', 'sqf', 'sqf_list', 'sqf_norm', 'sqf_part', 'sqrt', 'sqrt_mod', 'sqrt_mod_iter', 'sqrtdenest', 'srepr', 'sring', 'sstr', 'sstrrepr', 'stationary_points', 'stieltjes', 'strategies', 'sturm', 'subfactorial', 'subresultants', 'subsets', 'substitution', 'summation', 'swinnerton_dyer_poly', 'symarray', 'symbols', 'symmetric_poly', 'symmetrize', 'sympify', 'take', 'tan', 'tanh', 'tensor', 'tensorcontraction', 'tensordiagonal', 'tensorproduct', 'terms_gcd', 'test', 'textplot', 'threaded', 'timed', 'to_cnf', 'to_dnf', 'to_nnf', 'to_number_field', 'together', 'topological_sort', 'total_degree', 'totient', 'trace', 'trailing', 'transpose', 'tribonacci', 'trigamma', 'trigsimp', 'true', 'trunc', 'unbranched_argument', 'unflatten', 'unpolarify', 'uppergamma', 'use', 'utilities', 'var', 'variations', 'vectorize', 'vfield', 'viete', 'vring', 'wronskian', 'xfield', 'xring', 'xthreaded', 'yn', 'zeros', 'zeta', 'zoo']\n"
     ]
    }
   ],
   "source": [
    "print(dir(sp))"
   ]
  },
  {
   "cell_type": "code",
   "execution_count": 3,
   "id": "f606fcd8",
   "metadata": {},
   "outputs": [
    {
     "name": "stdout",
     "output_type": "stream",
     "text": [
      "Remember that the time coordinate must be the first coordinate.\n"
     ]
    }
   ],
   "source": [
    "t,r,theta,phi=pt.coords(\"t,r,theta,phi\")"
   ]
  },
  {
   "cell_type": "code",
   "execution_count": 4,
   "id": "2ce1bbc8",
   "metadata": {},
   "outputs": [],
   "source": [
    "A=pt.fun(\"A\",\"r\")\n",
    "B=pt.fun(\"B\",\"r\")\n",
    "rho=pt.fun(\"rho\",\"r\")\n",
    "P=pt.fun(\"P\",\"r\")"
   ]
  },
  {
   "cell_type": "code",
   "execution_count": 5,
   "id": "9377165f",
   "metadata": {},
   "outputs": [],
   "source": [
    "ds=\"ds2=-A*dt**2 + B*dr**2 +r**2 * dtheta**2 + r**2 * sin(theta)**2 * dphi**2\""
   ]
  },
  {
   "cell_type": "code",
   "execution_count": 6,
   "id": "d2f21e46",
   "metadata": {},
   "outputs": [
    {
     "name": "stdout",
     "output_type": "stream",
     "text": [
      "\n",
      "Dimension = 4\n",
      "Coordinates = t,r,theta,phi\n",
      "Metric defined successfully: \n",
      "\n"
     ]
    },
    {
     "data": {
      "text/latex": [
       "$\\displaystyle ds^2 = - A{\\left(r \\right)} \\cdot dt^2+B{\\left(r \\right)} \\cdot dr^2+r^{2} \\cdot d\\theta^2+r^{2} \\sin^{2}{\\left(\\theta \\right)} \\cdot d\\phi^2$"
      ],
      "text/plain": [
       "<IPython.core.display.Math object>"
      ]
     },
     "metadata": {},
     "output_type": "display_data"
    },
    {
     "data": {
      "text/latex": [
       "$\\displaystyle \\left[\\begin{matrix}- A{\\left(r \\right)} & 0 & 0 & 0\\\\0 & B{\\left(r \\right)} & 0 & 0\\\\0 & 0 & r^{2} & 0\\\\0 & 0 & 0 & r^{2} \\sin^{2}{\\left(\\theta \\right)}\\end{matrix}\\right]$"
      ],
      "text/plain": [
       "Matrix([\n",
       "[-A(r),    0,    0,                  0],\n",
       "[    0, B(r),    0,                  0],\n",
       "[    0,    0, r**2,                  0],\n",
       "[    0,    0,    0, r**2*sin(theta)**2]])"
      ]
     },
     "metadata": {},
     "output_type": "display_data"
    }
   ],
   "source": [
    "g=pt.metric(ds)"
   ]
  },
  {
   "cell_type": "code",
   "execution_count": 7,
   "id": "e7cfefbf",
   "metadata": {},
   "outputs": [
    {
     "data": {
      "text/latex": [
       "Christoffel $\\Gamma_{\\alpha \\beta \\gamma}$ and $\\Gamma^{\\alpha}_{\\beta \\gamma}$"
      ],
      "text/plain": [
       "<IPython.core.display.Latex object>"
      ]
     },
     "metadata": {},
     "output_type": "display_data"
    },
    {
     "data": {
      "application/vnd.jupyter.widget-view+json": {
       "model_id": "09515dce5f9841038b68c5126769f915",
       "version_major": 2,
       "version_minor": 0
      },
      "text/plain": [
       "  0%|          | 0/64 [00:00<?, ?it/s]"
      ]
     },
     "metadata": {},
     "output_type": "display_data"
    },
    {
     "data": {
      "text/latex": [
       "$\\displaystyle {\\Gamma}{}^{0}\\,{}_{0}\\,{}_{1}\\, = \\frac{\\frac{d}{d r} A{\\left(r \\right)}}{2 A{\\left(r \\right)}}$"
      ],
      "text/plain": [
       "<IPython.core.display.Math object>"
      ]
     },
     "metadata": {},
     "output_type": "display_data"
    },
    {
     "data": {
      "text/latex": [
       "$\\displaystyle {\\Gamma}{}^{0}\\,{}_{1}\\,{}_{0}\\, = \\frac{\\frac{d}{d r} A{\\left(r \\right)}}{2 A{\\left(r \\right)}}$"
      ],
      "text/plain": [
       "<IPython.core.display.Math object>"
      ]
     },
     "metadata": {},
     "output_type": "display_data"
    },
    {
     "data": {
      "text/latex": [
       "$\\displaystyle {\\Gamma}{}^{1}\\,{}_{0}\\,{}_{0}\\, = \\frac{\\frac{d}{d r} A{\\left(r \\right)}}{2 B{\\left(r \\right)}}$"
      ],
      "text/plain": [
       "<IPython.core.display.Math object>"
      ]
     },
     "metadata": {},
     "output_type": "display_data"
    },
    {
     "data": {
      "text/latex": [
       "$\\displaystyle {\\Gamma}{}^{1}\\,{}_{1}\\,{}_{1}\\, = \\frac{\\frac{d}{d r} B{\\left(r \\right)}}{2 B{\\left(r \\right)}}$"
      ],
      "text/plain": [
       "<IPython.core.display.Math object>"
      ]
     },
     "metadata": {},
     "output_type": "display_data"
    },
    {
     "data": {
      "text/latex": [
       "$\\displaystyle {\\Gamma}{}^{1}\\,{}_{2}\\,{}_{2}\\, = - \\frac{r}{B{\\left(r \\right)}}$"
      ],
      "text/plain": [
       "<IPython.core.display.Math object>"
      ]
     },
     "metadata": {},
     "output_type": "display_data"
    },
    {
     "data": {
      "text/latex": [
       "$\\displaystyle {\\Gamma}{}^{1}\\,{}_{3}\\,{}_{3}\\, = - \\frac{r \\sin^{2}{\\left(\\theta \\right)}}{B{\\left(r \\right)}}$"
      ],
      "text/plain": [
       "<IPython.core.display.Math object>"
      ]
     },
     "metadata": {},
     "output_type": "display_data"
    },
    {
     "data": {
      "text/latex": [
       "$\\displaystyle {\\Gamma}{}^{2}\\,{}_{1}\\,{}_{2}\\, = \\frac{1}{r}$"
      ],
      "text/plain": [
       "<IPython.core.display.Math object>"
      ]
     },
     "metadata": {},
     "output_type": "display_data"
    },
    {
     "data": {
      "text/latex": [
       "$\\displaystyle {\\Gamma}{}^{2}\\,{}_{2}\\,{}_{1}\\, = \\frac{1}{r}$"
      ],
      "text/plain": [
       "<IPython.core.display.Math object>"
      ]
     },
     "metadata": {},
     "output_type": "display_data"
    },
    {
     "data": {
      "text/latex": [
       "$\\displaystyle {\\Gamma}{}^{2}\\,{}_{3}\\,{}_{3}\\, = - \\sin{\\left(\\theta \\right)} \\cos{\\left(\\theta \\right)}$"
      ],
      "text/plain": [
       "<IPython.core.display.Math object>"
      ]
     },
     "metadata": {},
     "output_type": "display_data"
    },
    {
     "data": {
      "text/latex": [
       "$\\displaystyle {\\Gamma}{}^{3}\\,{}_{1}\\,{}_{3}\\, = \\frac{1}{r}$"
      ],
      "text/plain": [
       "<IPython.core.display.Math object>"
      ]
     },
     "metadata": {},
     "output_type": "display_data"
    },
    {
     "data": {
      "text/latex": [
       "$\\displaystyle {\\Gamma}{}^{3}\\,{}_{2}\\,{}_{3}\\, = \\frac{\\cos{\\left(\\theta \\right)}}{\\sin{\\left(\\theta \\right)}}$"
      ],
      "text/plain": [
       "<IPython.core.display.Math object>"
      ]
     },
     "metadata": {},
     "output_type": "display_data"
    },
    {
     "data": {
      "text/latex": [
       "$\\displaystyle {\\Gamma}{}^{3}\\,{}_{3}\\,{}_{1}\\, = \\frac{1}{r}$"
      ],
      "text/plain": [
       "<IPython.core.display.Math object>"
      ]
     },
     "metadata": {},
     "output_type": "display_data"
    },
    {
     "data": {
      "text/latex": [
       "$\\displaystyle {\\Gamma}{}^{3}\\,{}_{3}\\,{}_{2}\\, = \\frac{\\cos{\\left(\\theta \\right)}}{\\sin{\\left(\\theta \\right)}}$"
      ],
      "text/plain": [
       "<IPython.core.display.Math object>"
      ]
     },
     "metadata": {},
     "output_type": "display_data"
    }
   ],
   "source": [
    "chr=pt.christoffel()\n",
    "chr.display('^,_,_',aslist=True)"
   ]
  },
  {
   "cell_type": "code",
   "execution_count": 8,
   "id": "82557639",
   "metadata": {},
   "outputs": [
    {
     "data": {
      "text/latex": [
       "Riemann Tensor $R^{\\alpha}_{\\beta \\gamma \\delta}$"
      ],
      "text/plain": [
       "<IPython.core.display.Latex object>"
      ]
     },
     "metadata": {},
     "output_type": "display_data"
    },
    {
     "data": {
      "application/vnd.jupyter.widget-view+json": {
       "model_id": "584b934e0d1641b9837f8abf7095d121",
       "version_major": 2,
       "version_minor": 0
      },
      "text/plain": [
       "  0%|          | 0/256 [00:00<?, ?it/s]"
      ]
     },
     "metadata": {},
     "output_type": "display_data"
    },
    {
     "data": {
      "text/latex": [
       "Ricci Tensor $R_{\\alpha \\beta}$"
      ],
      "text/plain": [
       "<IPython.core.display.Latex object>"
      ]
     },
     "metadata": {},
     "output_type": "display_data"
    },
    {
     "data": {
      "application/vnd.jupyter.widget-view+json": {
       "model_id": "683b1c3de89e4cf19ca1f130a9547f00",
       "version_major": 2,
       "version_minor": 0
      },
      "text/plain": [
       "  0%|          | 0/16 [00:00<?, ?it/s]"
      ]
     },
     "metadata": {},
     "output_type": "display_data"
    },
    {
     "data": {
      "text/latex": [
       "$\\displaystyle {R}{}_{0}\\,{}_{0}\\, = \\frac{2 r A{\\left(r \\right)} B{\\left(r \\right)} \\frac{d^{2}}{d r^{2}} A{\\left(r \\right)} - r A{\\left(r \\right)} \\frac{d}{d r} A{\\left(r \\right)} \\frac{d}{d r} B{\\left(r \\right)} - r B{\\left(r \\right)} \\left(\\frac{d}{d r} A{\\left(r \\right)}\\right)^{2} + 4 A{\\left(r \\right)} B{\\left(r \\right)} \\frac{d}{d r} A{\\left(r \\right)}}{4 r A{\\left(r \\right)} B^{2}{\\left(r \\right)}}$"
      ],
      "text/plain": [
       "<IPython.core.display.Math object>"
      ]
     },
     "metadata": {},
     "output_type": "display_data"
    },
    {
     "data": {
      "text/latex": [
       "$\\displaystyle {R}{}_{1}\\,{}_{1}\\, = - \\frac{2 r A{\\left(r \\right)} B{\\left(r \\right)} \\frac{d^{2}}{d r^{2}} A{\\left(r \\right)} - r A{\\left(r \\right)} \\frac{d}{d r} A{\\left(r \\right)} \\frac{d}{d r} B{\\left(r \\right)} - r B{\\left(r \\right)} \\left(\\frac{d}{d r} A{\\left(r \\right)}\\right)^{2} - 4 A^{2}{\\left(r \\right)} \\frac{d}{d r} B{\\left(r \\right)}}{4 r A^{2}{\\left(r \\right)} B{\\left(r \\right)}}$"
      ],
      "text/plain": [
       "<IPython.core.display.Math object>"
      ]
     },
     "metadata": {},
     "output_type": "display_data"
    },
    {
     "data": {
      "text/latex": [
       "$\\displaystyle {R}{}_{2}\\,{}_{2}\\, = \\frac{r A{\\left(r \\right)} \\frac{d}{d r} B{\\left(r \\right)} - r B{\\left(r \\right)} \\frac{d}{d r} A{\\left(r \\right)} + 2 A{\\left(r \\right)} B^{2}{\\left(r \\right)} - 2 A{\\left(r \\right)} B{\\left(r \\right)}}{2 A{\\left(r \\right)} B^{2}{\\left(r \\right)}}$"
      ],
      "text/plain": [
       "<IPython.core.display.Math object>"
      ]
     },
     "metadata": {},
     "output_type": "display_data"
    },
    {
     "data": {
      "text/latex": [
       "$\\displaystyle {R}{}_{3}\\,{}_{3}\\, = \\frac{\\left(r A{\\left(r \\right)} \\frac{d}{d r} B{\\left(r \\right)} - r B{\\left(r \\right)} \\frac{d}{d r} A{\\left(r \\right)} + 2 A{\\left(r \\right)} B^{2}{\\left(r \\right)} - 2 A{\\left(r \\right)} B{\\left(r \\right)}\\right) \\sin^{2}{\\left(\\theta \\right)}}{2 A{\\left(r \\right)} B^{2}{\\left(r \\right)}}$"
      ],
      "text/plain": [
       "<IPython.core.display.Math object>"
      ]
     },
     "metadata": {},
     "output_type": "display_data"
    }
   ],
   "source": [
    "Ric=pt.ricci()\n",
    "Ric.display(\"_,_\",aslist=True)"
   ]
  },
  {
   "cell_type": "code",
   "execution_count": 9,
   "id": "21480552",
   "metadata": {},
   "outputs": [
    {
     "data": {
      "application/vnd.jupyter.widget-view+json": {
       "model_id": "08012b729deb40cbafef9070bb3f192b",
       "version_major": 2,
       "version_minor": 0
      },
      "text/plain": [
       "  0%|          | 0/16 [00:00<?, ?it/s]"
      ]
     },
     "metadata": {},
     "output_type": "display_data"
    },
    {
     "data": {
      "text/latex": [
       "Ricci Scalar $R$"
      ],
      "text/plain": [
       "<IPython.core.display.Latex object>"
      ]
     },
     "metadata": {},
     "output_type": "display_data"
    },
    {
     "data": {
      "text/latex": [
       "$\\displaystyle - \\frac{2 r^{2} A{\\left(r \\right)} B{\\left(r \\right)} \\frac{d^{2}}{d r^{2}} A{\\left(r \\right)} - r^{2} A{\\left(r \\right)} \\frac{d}{d r} A{\\left(r \\right)} \\frac{d}{d r} B{\\left(r \\right)} - r^{2} B{\\left(r \\right)} \\left(\\frac{d}{d r} A{\\left(r \\right)}\\right)^{2} - 4 r A^{2}{\\left(r \\right)} \\frac{d}{d r} B{\\left(r \\right)} + 4 r A{\\left(r \\right)} B{\\left(r \\right)} \\frac{d}{d r} A{\\left(r \\right)} - 4 A^{2}{\\left(r \\right)} B^{2}{\\left(r \\right)} + 4 A^{2}{\\left(r \\right)} B{\\left(r \\right)}}{2 r^{2} A^{2}{\\left(r \\right)} B^{2}{\\left(r \\right)}}$"
      ],
      "text/plain": [
       "<IPython.core.display.Math object>"
      ]
     },
     "metadata": {},
     "output_type": "display_data"
    }
   ],
   "source": [
    "S=pt.riccis()\n",
    "S.simplify()\n",
    "pt.display(S)"
   ]
  },
  {
   "cell_type": "code",
   "execution_count": 10,
   "id": "944dcbfd",
   "metadata": {},
   "outputs": [
    {
     "data": {
      "text/latex": [
       "Einstein Tensor $G_{\\alpha \\beta}$"
      ],
      "text/plain": [
       "<IPython.core.display.Latex object>"
      ]
     },
     "metadata": {},
     "output_type": "display_data"
    },
    {
     "data": {
      "application/vnd.jupyter.widget-view+json": {
       "model_id": "242206096b714ae18ae2ca628e2de243",
       "version_major": 2,
       "version_minor": 0
      },
      "text/plain": [
       "  0%|          | 0/16 [00:00<?, ?it/s]"
      ]
     },
     "metadata": {},
     "output_type": "display_data"
    },
    {
     "data": {
      "text/latex": [
       "$\\displaystyle {G}{}_{0}\\,{}_{0}\\, = \\frac{\\left(r \\frac{d}{d r} B{\\left(r \\right)} + B^{2}{\\left(r \\right)} - B{\\left(r \\right)}\\right) A{\\left(r \\right)}}{r^{2} B^{2}{\\left(r \\right)}}$"
      ],
      "text/plain": [
       "<IPython.core.display.Math object>"
      ]
     },
     "metadata": {},
     "output_type": "display_data"
    },
    {
     "data": {
      "text/latex": [
       "$\\displaystyle {G}{}_{1}\\,{}_{1}\\, = \\frac{r \\frac{d}{d r} A{\\left(r \\right)} - A{\\left(r \\right)} B{\\left(r \\right)} + A{\\left(r \\right)}}{r^{2} A{\\left(r \\right)}}$"
      ],
      "text/plain": [
       "<IPython.core.display.Math object>"
      ]
     },
     "metadata": {},
     "output_type": "display_data"
    },
    {
     "data": {
      "text/latex": [
       "$\\displaystyle {G}{}_{2}\\,{}_{2}\\, = \\frac{r \\left(2 r A{\\left(r \\right)} B{\\left(r \\right)} \\frac{d^{2}}{d r^{2}} A{\\left(r \\right)} - r A{\\left(r \\right)} \\frac{d}{d r} A{\\left(r \\right)} \\frac{d}{d r} B{\\left(r \\right)} - r B{\\left(r \\right)} \\left(\\frac{d}{d r} A{\\left(r \\right)}\\right)^{2} - 2 A^{2}{\\left(r \\right)} \\frac{d}{d r} B{\\left(r \\right)} + 2 A{\\left(r \\right)} B{\\left(r \\right)} \\frac{d}{d r} A{\\left(r \\right)}\\right)}{4 A^{2}{\\left(r \\right)} B^{2}{\\left(r \\right)}}$"
      ],
      "text/plain": [
       "<IPython.core.display.Math object>"
      ]
     },
     "metadata": {},
     "output_type": "display_data"
    },
    {
     "data": {
      "text/latex": [
       "$\\displaystyle {G}{}_{3}\\,{}_{3}\\, = \\frac{r \\left(2 r A{\\left(r \\right)} B{\\left(r \\right)} \\frac{d^{2}}{d r^{2}} A{\\left(r \\right)} - r A{\\left(r \\right)} \\frac{d}{d r} A{\\left(r \\right)} \\frac{d}{d r} B{\\left(r \\right)} - r B{\\left(r \\right)} \\left(\\frac{d}{d r} A{\\left(r \\right)}\\right)^{2} - 2 A^{2}{\\left(r \\right)} \\frac{d}{d r} B{\\left(r \\right)} + 2 A{\\left(r \\right)} B{\\left(r \\right)} \\frac{d}{d r} A{\\left(r \\right)}\\right) \\sin^{2}{\\left(\\theta \\right)}}{4 A^{2}{\\left(r \\right)} B^{2}{\\left(r \\right)}}$"
      ],
      "text/plain": [
       "<IPython.core.display.Math object>"
      ]
     },
     "metadata": {},
     "output_type": "display_data"
    }
   ],
   "source": [
    "G = pt.einstein()\n",
    "G.display(aslist=True)"
   ]
  },
  {
   "cell_type": "code",
   "execution_count": 11,
   "id": "78889648",
   "metadata": {},
   "outputs": [
    {
     "name": "stdout",
     "output_type": "stream",
     "text": [
      "Elements assigned correctly to the ^ components\n"
     ]
    },
    {
     "data": {
      "text/latex": [
       "$\\displaystyle \\left[\\begin{matrix}A^{-0.5}{\\left(r \\right)}\\\\0\\\\0\\\\0\\end{matrix}\\right]$"
      ],
      "text/plain": [
       "⎡ -0.5   ⎤\n",
       "⎢A    (r)⎥\n",
       "⎢        ⎥\n",
       "⎢   0    ⎥\n",
       "⎢        ⎥\n",
       "⎢   0    ⎥\n",
       "⎢        ⎥\n",
       "⎣   0    ⎦"
      ]
     },
     "metadata": {},
     "output_type": "display_data"
    }
   ],
   "source": [
    "U=pt.ten(\"U\",1)\n",
    "U.assign([1/(A**0.5),0,0,0],\"^\")\n",
    "U.display(\"^\")"
   ]
  },
  {
   "cell_type": "code",
   "execution_count": 12,
   "id": "0fe86b19",
   "metadata": {},
   "outputs": [
    {
     "name": "stdout",
     "output_type": "stream",
     "text": [
      "Elements assigned correctly to the ^mu,^nu components\n"
     ]
    },
    {
     "data": {
      "text/latex": [
       "$\\displaystyle \\left[\\begin{matrix}\\frac{\\rho{\\left(r \\right)}}{A^{1.0}{\\left(r \\right)}} & 0 & 0 & 0\\\\0 & \\frac{P{\\left(r \\right)}}{B{\\left(r \\right)}} & 0 & 0\\\\0 & 0 & \\frac{P{\\left(r \\right)}}{r^{2}} & 0\\\\0 & 0 & 0 & \\frac{P{\\left(r \\right)}}{r^{2} \\sin^{2}{\\left(\\theta \\right)}}\\end{matrix}\\right]$"
      ],
      "text/plain": [
       "⎡ -1.0                                ⎤\n",
       "⎢A    (r)⋅ρ(r)   0     0        0     ⎥\n",
       "⎢                                     ⎥\n",
       "⎢               P(r)                  ⎥\n",
       "⎢      0        ────   0        0     ⎥\n",
       "⎢               B(r)                  ⎥\n",
       "⎢                                     ⎥\n",
       "⎢                     P(r)            ⎥\n",
       "⎢      0         0    ────      0     ⎥\n",
       "⎢                       2             ⎥\n",
       "⎢                      r              ⎥\n",
       "⎢                                     ⎥\n",
       "⎢                              P(r)   ⎥\n",
       "⎢      0         0     0    ──────────⎥\n",
       "⎢                            2    2   ⎥\n",
       "⎣                           r ⋅sin (θ)⎦"
      ]
     },
     "metadata": {},
     "output_type": "display_data"
    }
   ],
   "source": [
    "T=pt.ten(\"T\",2)\n",
    "val=(rho+P)*U(\"^mu\")*U(\"^nu\")+P*g(\"^mu,^nu\")\n",
    "T.assign(val,\"^mu,^nu\")\n",
    "T.simplify()\n",
    "T.display(\"^,^\")"
   ]
  },
  {
   "cell_type": "code",
   "execution_count": 13,
   "id": "54ddb3f1",
   "metadata": {},
   "outputs": [
    {
     "data": {
      "application/vnd.jupyter.widget-view+json": {
       "model_id": "df3b902968854266ade6cf36c3723458",
       "version_major": 2,
       "version_minor": 0
      },
      "text/plain": [
       "T Tensor $T{_\\alpha}{^\\beta}$:   0%|          | 0/16 [00:00<?, ?it/s]"
      ]
     },
     "metadata": {},
     "output_type": "display_data"
    },
    {
     "data": {
      "application/vnd.jupyter.widget-view+json": {
       "model_id": "8274b43ed56c452599d4ad79ae662ea9",
       "version_major": 2,
       "version_minor": 0
      },
      "text/plain": [
       "T Tensor $T{_\\alpha}{_\\beta}$:   0%|          | 0/16 [00:00<?, ?it/s]"
      ]
     },
     "metadata": {},
     "output_type": "display_data"
    },
    {
     "data": {
      "application/vnd.jupyter.widget-view+json": {
       "model_id": "61095d22910e476fbfc9501cc6e05703",
       "version_major": 2,
       "version_minor": 0
      },
      "text/plain": [
       "T Tensor $T{^\\alpha}{_\\beta}$:   0%|          | 0/16 [00:00<?, ?it/s]"
      ]
     },
     "metadata": {},
     "output_type": "display_data"
    },
    {
     "data": {
      "text/latex": [
       "All other indices of T Tensor $T$  already calculated."
      ],
      "text/plain": [
       "<IPython.core.display.Latex object>"
      ]
     },
     "metadata": {},
     "output_type": "display_data"
    },
    {
     "data": {
      "text/latex": [
       "$\\displaystyle \\left[\\begin{matrix}A{\\left(r \\right)} \\rho{\\left(r \\right)} & 0 & 0 & 0\\\\0 & B{\\left(r \\right)} P{\\left(r \\right)} & 0 & 0\\\\0 & 0 & r^{2} P{\\left(r \\right)} & 0\\\\0 & 0 & 0 & r^{2} P{\\left(r \\right)} \\sin^{2}{\\left(\\theta \\right)}\\end{matrix}\\right]$"
      ],
      "text/plain": [
       "⎡A(r)⋅ρ(r)      0         0            0       ⎤\n",
       "⎢                                              ⎥\n",
       "⎢    0      B(r)⋅P(r)     0            0       ⎥\n",
       "⎢                                              ⎥\n",
       "⎢                       2                      ⎥\n",
       "⎢    0          0      r ⋅P(r)         0       ⎥\n",
       "⎢                                              ⎥\n",
       "⎢                                2         2   ⎥\n",
       "⎣    0          0         0     r ⋅P(r)⋅sin (θ)⎦"
      ]
     },
     "metadata": {},
     "output_type": "display_data"
    }
   ],
   "source": [
    "# To calculate the rest of indices combinations of the tensor:\n",
    "T.complete('^,^')\n",
    "T.simplify()\n",
    "T_components=T.display('_,_')"
   ]
  },
  {
   "cell_type": "code",
   "execution_count": 14,
   "id": "ec859dc7",
   "metadata": {},
   "outputs": [
    {
     "name": "stdout",
     "output_type": "stream",
     "text": [
      "Elements assigned correctly to the ^mu components\n"
     ]
    },
    {
     "data": {
      "text/latex": [
       "$\\displaystyle \\left[\\begin{matrix}0\\\\\\frac{2 A^{1.0}{\\left(r \\right)} \\frac{d}{d r} P{\\left(r \\right)} + P{\\left(r \\right)} \\frac{d}{d r} A{\\left(r \\right)} + \\rho{\\left(r \\right)} \\frac{d}{d r} A{\\left(r \\right)}}{2 A^{1.0}{\\left(r \\right)} B{\\left(r \\right)}}\\\\0\\\\0\\end{matrix}\\right]$"
      ],
      "text/plain": [
       "⎡                              0                              ⎤\n",
       "⎢                                                             ⎥\n",
       "⎢⎛   1.0    d               d               d       ⎞  -1.0   ⎥\n",
       "⎢⎜2⋅A   (r)⋅──(P(r)) + P(r)⋅──(A(r)) + ρ(r)⋅──(A(r))⎟⋅A    (r)⎥\n",
       "⎢⎝          dr              dr              dr      ⎠         ⎥\n",
       "⎢─────────────────────────────────────────────────────────────⎥\n",
       "⎢                            2⋅B(r)                           ⎥\n",
       "⎢                                                             ⎥\n",
       "⎢                              0                              ⎥\n",
       "⎢                                                             ⎥\n",
       "⎣                              0                              ⎦"
      ]
     },
     "metadata": {},
     "output_type": "display_data"
    }
   ],
   "source": [
    "data = pt.C(T(\"^mu,^nu\"),\"_nu\")\n",
    "cons = pt.ten('cons',1)\n",
    "cons.assign(data,\"^mu\")\n",
    "cons.simplify()\n",
    "cons.display('^')"
   ]
  },
  {
   "cell_type": "code",
   "execution_count": 15,
   "id": "d2919a4e",
   "metadata": {},
   "outputs": [],
   "source": [
    "t, r, theta, phi = sp.symbols('t r theta phi')\n",
    "A = sp.Function('A')\n",
    "B = sp.Function('B')\n",
    "m=sp.Function(\"m\")\n",
    "rho = sp.Function('rho')\n",
    "P = sp.Function('P')"
   ]
  },
  {
   "cell_type": "code",
   "execution_count": 16,
   "id": "f0566724",
   "metadata": {},
   "outputs": [
    {
     "data": {
      "image/png": "[encoded data removed]",
      "text/latex": [
       "$\\displaystyle \\frac{2 A{\\left(r \\right)} \\frac{d}{d r} P{\\left(r \\right)} + P{\\left(r \\right)} \\frac{d}{d r} A{\\left(r \\right)} + \\rho{\\left(r \\right)} \\frac{d}{d r} A{\\left(r \\right)}}{2 A{\\left(r \\right)} B{\\left(r \\right)}} = 0$"
      ],
      "text/plain": [
       "       d               d               d           \n",
       "2⋅A(r)⋅──(P(r)) + P(r)⋅──(A(r)) + ρ(r)⋅──(A(r))    \n",
       "       dr              dr              dr          \n",
       "─────────────────────────────────────────────── = 0\n",
       "                  2⋅A(r)⋅B(r)                      "
      ]
     },
     "execution_count": 16,
     "metadata": {},
     "output_type": "execute_result"
    }
   ],
   "source": [
    "Cons_eqn=sp.Eq((2*A(r)*sp.diff(P(r),r)+P(r)*sp.diff(A(r),r)+rho(r)*sp.diff(A(r),r))/(2*A(r)*B(r)),0)\n",
    "Cons_eqn"
   ]
  },
  {
   "cell_type": "code",
   "execution_count": 17,
   "id": "9d96fa1c",
   "metadata": {},
   "outputs": [
    {
     "data": {
      "image/png": "[encoded data removed]",
      "text/latex": [
       "$\\displaystyle \\frac{\\left(- P{\\left(r \\right)} - \\rho{\\left(r \\right)}\\right) \\frac{d}{d r} A{\\left(r \\right)}}{2 A{\\left(r \\right)}}$"
      ],
      "text/plain": [
       "               d       \n",
       "(-P(r) - ρ(r))⋅──(A(r))\n",
       "               dr      \n",
       "───────────────────────\n",
       "         2⋅A(r)        "
      ]
     },
     "execution_count": 17,
     "metadata": {},
     "output_type": "execute_result"
    }
   ],
   "source": [
    "Solution=sp.solve(Cons_eqn,sp.diff(P(r),r))[0]\n",
    "Solution"
   ]
  },
  {
   "cell_type": "code",
   "execution_count": 18,
   "id": "e419426b",
   "metadata": {},
   "outputs": [
    {
     "data": {
      "image/png": "[encoded data removed]",
      "text/latex": [
       "$\\displaystyle \\frac{d}{d r} P{\\left(r \\right)} = \\frac{\\left(- P{\\left(r \\right)} - \\rho{\\left(r \\right)}\\right) \\frac{d}{d r} A{\\left(r \\right)}}{2 A{\\left(r \\right)}}$"
      ],
      "text/plain": [
       "                          d       \n",
       "           (-P(r) - ρ(r))⋅──(A(r))\n",
       "d                         dr      \n",
       "──(P(r)) = ───────────────────────\n",
       "dr                  2⋅A(r)        "
      ]
     },
     "execution_count": 18,
     "metadata": {},
     "output_type": "execute_result"
    }
   ],
   "source": [
    "Tov_equation=sp.Eq(sp.diff(P(r),r),Solution)\n",
    "Tov_equation"
   ]
  },
  {
   "cell_type": "code",
   "execution_count": 19,
   "id": "1f83191c",
   "metadata": {},
   "outputs": [
    {
     "data": {
      "image/png": "[encoded data removed]",
      "text/latex": [
       "$\\displaystyle \\frac{r \\frac{d}{d r} A{\\left(r \\right)} - A{\\left(r \\right)} B{\\left(r \\right)} + A{\\left(r \\right)}}{r^{2} A{\\left(r \\right)}} = 8 \\pi B{\\left(r \\right)} P{\\left(r \\right)}$"
      ],
      "text/plain": [
       "  d                                          \n",
       "r⋅──(A(r)) - A(r)⋅B(r) + A(r)                \n",
       "  dr                                         \n",
       "───────────────────────────── = 8⋅π⋅B(r)⋅P(r)\n",
       "            2                                \n",
       "           r ⋅A(r)                           "
      ]
     },
     "execution_count": 19,
     "metadata": {},
     "output_type": "execute_result"
    }
   ],
   "source": [
    "EFE_1=sp.Eq(1/(r**2 * A(r)) * (A(r)-A(r)*B(r) + r*sp.diff(A(r),r)),8*sp.pi*B(r)*P(r))\n",
    "EFE_1"
   ]
  },
  {
   "cell_type": "code",
   "execution_count": 20,
   "id": "11f46fae",
   "metadata": {},
   "outputs": [
    {
     "data": {
      "image/png": "[encoded data removed]",
      "text/latex": [
       "$\\displaystyle 8 \\pi B{\\left(r \\right)} P{\\left(r \\right)} = \\frac{\\frac{d}{d r} A{\\left(r \\right)}}{r A{\\left(r \\right)}} - \\frac{B{\\left(r \\right)}}{r^{2}} + \\frac{1}{r^{2}}$"
      ],
      "text/plain": [
       "                d                   \n",
       "                ──(A(r))            \n",
       "                dr         B(r)   1 \n",
       "8⋅π⋅B(r)⋅P(r) = ──────── - ──── + ──\n",
       "                 r⋅A(r)      2     2\n",
       "                            r     r "
      ]
     },
     "execution_count": 20,
     "metadata": {},
     "output_type": "execute_result"
    }
   ],
   "source": [
    "EFE_1=sp.simplify(EFE_1)\n",
    "EFE_1"
   ]
  },
  {
   "cell_type": "code",
   "execution_count": 21,
   "id": "0ea2884f",
   "metadata": {},
   "outputs": [
    {
     "data": {
      "image/png": "[encoded data removed]",
      "text/latex": [
       "$\\displaystyle \\frac{8 \\pi r^{2} B{\\left(r \\right)} P{\\left(r \\right)} + B{\\left(r \\right)} - 1}{r}$"
      ],
      "text/plain": [
       "     2                     \n",
       "8⋅π⋅r ⋅B(r)⋅P(r) + B(r) - 1\n",
       "───────────────────────────\n",
       "             r             "
      ]
     },
     "execution_count": 21,
     "metadata": {},
     "output_type": "execute_result"
    }
   ],
   "source": [
    "Solution_1=sp.solve(EFE_1,sp.diff(A(r),r)/A(r))[0]\n",
    "Solution_1"
   ]
  },
  {
   "cell_type": "code",
   "execution_count": 22,
   "id": "c7842e11",
   "metadata": {},
   "outputs": [
    {
     "data": {
      "image/png": "[encoded data removed]",
      "text/latex": [
       "$\\displaystyle \\frac{\\frac{8 \\pi r^{2} P{\\left(r \\right)}}{1 - \\frac{2 m{\\left(r \\right)}}{r}} - 1 + \\frac{1}{1 - \\frac{2 m{\\left(r \\right)}}{r}}}{r}$"
      ],
      "text/plain": [
       "     2                      \n",
       "8⋅π⋅r ⋅P(r)           1     \n",
       "─────────── - 1 + ──────────\n",
       "     2⋅m(r)           2⋅m(r)\n",
       " 1 - ──────       1 - ──────\n",
       "       r                r   \n",
       "────────────────────────────\n",
       "             r              "
      ]
     },
     "execution_count": 22,
     "metadata": {},
     "output_type": "execute_result"
    }
   ],
   "source": [
    "Solution_1=Solution_1.subs(B(r),(1-(2*m(r)/r))**(-1))\n",
    "Solution_1"
   ]
  },
  {
   "cell_type": "code",
   "execution_count": 23,
   "id": "605aafa6",
   "metadata": {},
   "outputs": [
    {
     "data": {
      "image/png": "[encoded data removed]",
      "text/latex": [
       "$\\displaystyle \\frac{\\frac{d}{d r} A{\\left(r \\right)}}{A{\\left(r \\right)}} = \\frac{\\frac{8 \\pi r^{2} P{\\left(r \\right)}}{1 - \\frac{2 m{\\left(r \\right)}}{r}} - 1 + \\frac{1}{1 - \\frac{2 m{\\left(r \\right)}}{r}}}{r}$"
      ],
      "text/plain": [
       "                2                      \n",
       "           8⋅π⋅r ⋅P(r)           1     \n",
       "           ─────────── - 1 + ──────────\n",
       "d               2⋅m(r)           2⋅m(r)\n",
       "──(A(r))    1 - ──────       1 - ──────\n",
       "dr                r                r   \n",
       "──────── = ────────────────────────────\n",
       "  A(r)                  r              "
      ]
     },
     "execution_count": 23,
     "metadata": {},
     "output_type": "execute_result"
    }
   ],
   "source": [
    "A_prime_divide_A=sp.Eq(sp.diff(A(r),r)/A(r),Solution_1)\n",
    "A_prime_divide_A"
   ]
  },
  {
   "cell_type": "code",
   "execution_count": 24,
   "id": "3663d36e",
   "metadata": {},
   "outputs": [
    {
     "data": {
      "image/png": "[encoded data removed]",
      "text/latex": [
       "$\\displaystyle \\frac{d}{d r} P{\\left(r \\right)} = \\frac{\\left(- P{\\left(r \\right)} - \\rho{\\left(r \\right)}\\right) \\left(\\frac{8 \\pi r^{2} P{\\left(r \\right)}}{1 - \\frac{2 m{\\left(r \\right)}}{r}} - 1 + \\frac{1}{1 - \\frac{2 m{\\left(r \\right)}}{r}}\\right)}{2 r}$"
      ],
      "text/plain": [
       "                          ⎛     2                      ⎞\n",
       "                          ⎜8⋅π⋅r ⋅P(r)           1     ⎟\n",
       "           (-P(r) - ρ(r))⋅⎜─────────── - 1 + ──────────⎟\n",
       "                          ⎜     2⋅m(r)           2⋅m(r)⎟\n",
       "                          ⎜ 1 - ──────       1 - ──────⎟\n",
       "d                         ⎝       r                r   ⎠\n",
       "──(P(r)) = ─────────────────────────────────────────────\n",
       "dr                              2⋅r                     "
      ]
     },
     "execution_count": 24,
     "metadata": {},
     "output_type": "execute_result"
    }
   ],
   "source": [
    "Tov_eq_1=sp.Eq(sp.diff(P(r),r),Tov_equation.rhs.subs(sp.diff(A(r),r)/A(r),Solution_1))\n",
    "Tov_eq_1"
   ]
  },
  {
   "cell_type": "code",
   "execution_count": 25,
   "id": "5e0728fe",
   "metadata": {},
   "outputs": [
    {
     "data": {
      "image/png": "[encoded data removed]",
      "text/latex": [
       "$\\displaystyle - \\frac{\\left(4 \\pi r^{3} P{\\left(r \\right)} + m{\\left(r \\right)}\\right) \\left(P{\\left(r \\right)} + \\rho{\\left(r \\right)}\\right)}{r \\left(r - 2 m{\\left(r \\right)}\\right)}$"
      ],
      "text/plain": [
       " ⎛     3            ⎞               \n",
       "-⎝4⋅π⋅r ⋅P(r) + m(r)⎠⋅(P(r) + ρ(r)) \n",
       "────────────────────────────────────\n",
       "           r⋅(r - 2⋅m(r))           "
      ]
     },
     "execution_count": 25,
     "metadata": {},
     "output_type": "execute_result"
    }
   ],
   "source": [
    "TOV_Equation_rhs=sp.simplify(Tov_eq_1.rhs)\n",
    "TOV_Equation_rhs"
   ]
  },
  {
   "cell_type": "code",
   "execution_count": 26,
   "id": "22ae864f",
   "metadata": {},
   "outputs": [
    {
     "data": {
      "image/png": "[encoded data removed]",
      "text/latex": [
       "$\\displaystyle \\frac{d}{d r} P{\\left(r \\right)} = - \\frac{\\left(4 \\pi r^{3} P{\\left(r \\right)} + m{\\left(r \\right)}\\right) \\left(P{\\left(r \\right)} + \\rho{\\left(r \\right)}\\right)}{r \\left(r - 2 m{\\left(r \\right)}\\right)}$"
      ],
      "text/plain": [
       "            ⎛     3            ⎞               \n",
       "d          -⎝4⋅π⋅r ⋅P(r) + m(r)⎠⋅(P(r) + ρ(r)) \n",
       "──(P(r)) = ────────────────────────────────────\n",
       "dr                    r⋅(r - 2⋅m(r))           "
      ]
     },
     "execution_count": 26,
     "metadata": {},
     "output_type": "execute_result"
    }
   ],
   "source": [
    "TOV_Equation=sp.Eq(sp.diff(P(r),r),TOV_Equation_rhs)\n",
    "TOV_Equation"
   ]
  },
  {
   "cell_type": "code",
   "execution_count": null,
   "id": "247fbf11",
   "metadata": {},
   "outputs": [],
   "source": []
  }
 ],
 "metadata": {
  "kernelspec": {
   "display_name": "Python 3 (ipykernel)",
   "language": "python",
   "name": "python3"
  },
  "language_info": {
   "codemirror_mode": {
    "name": "ipython",
    "version": 3
   },
   "file_extension": ".py",
   "mimetype": "text/x-python",
   "name": "python",
   "nbconvert_exporter": "python",
   "pygments_lexer": "ipython3",
   "version": "3.10.7"
  }
 },
 "nbformat": 4,
 "nbformat_minor": 5
}
