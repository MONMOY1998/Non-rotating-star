{
 "cells": [
  {
   "cell_type": "code",
   "execution_count": 1,
   "id": "a60d7d1b",
   "metadata": {},
   "outputs": [],
   "source": [
    "import pytearcat as pt\n",
    "import sympy as sp"
   ]
  },
  {
   "cell_type": "code",
   "execution_count": 2,
   "id": "3e012609",
   "metadata": {},
   "outputs": [
    {
     "name": "stdout",
     "output_type": "stream",
     "text": [
      "Remember that the time coordinate must be the first coordinate.\n"
     ]
    }
   ],
   "source": [
    "t,r,theta,phi=pt.coords(\"t,r,theta,phi\")"
   ]
  },
  {
   "cell_type": "code",
   "execution_count": 3,
   "id": "51fa473d",
   "metadata": {},
   "outputs": [],
   "source": [
    "A1=pt.fun(\"A1\",\"r\")\n",
    "B1=pt.fun(\"B1\",\"r\")\n",
    "A2=pt.fun(\"A2\",\"r\")\n",
    "B2=pt.fun(\"B2\",\"r\")\n",
    "rho=pt.fun(\"rho\",\"r\")\n",
    "P=pt.fun(\"P\",\"r\")\n",
    "H=pt.fun(\"H\",\"r\")\n",
    "K=pt.fun(\"K\",\"r\")\n"
   ]
  },
  {
   "cell_type": "code",
   "execution_count": 4,
   "id": "3b896ddd",
   "metadata": {},
   "outputs": [],
   "source": [
    "ds1=\"ds2=-A1*dt**2 + B1*dr**2 +r**2 * dtheta**2 + r**2 * sin(theta)**2 * dphi**2\""
   ]
  },
  {
   "cell_type": "code",
   "execution_count": 5,
   "id": "6e330574",
   "metadata": {},
   "outputs": [
    {
     "name": "stdout",
     "output_type": "stream",
     "text": [
      "\n",
      "Dimension = 4\n",
      "Coordinates = t,r,theta,phi\n",
      "Metric defined successfully: \n",
      "\n"
     ]
    },
    {
     "data": {
      "text/latex": [
       "$\\displaystyle ds^2 = - A_{1}{\\left(r \\right)} \\cdot dt^2+B_{1}{\\left(r \\right)} \\cdot dr^2+r^{2} \\cdot d\\theta^2+r^{2} \\sin^{2}{\\left(\\theta \\right)} \\cdot d\\phi^2$"
      ],
      "text/plain": [
       "<IPython.core.display.Math object>"
      ]
     },
     "metadata": {},
     "output_type": "display_data"
    },
    {
     "data": {
      "text/latex": [
       "$\\displaystyle \\left[\\begin{matrix}- A_{1}{\\left(r \\right)} & 0 & 0 & 0\\\\0 & B_{1}{\\left(r \\right)} & 0 & 0\\\\0 & 0 & r^{2} & 0\\\\0 & 0 & 0 & r^{2} \\sin^{2}{\\left(\\theta \\right)}\\end{matrix}\\right]$"
      ],
      "text/plain": [
       "Matrix([\n",
       "[-A1(r),     0,    0,                  0],\n",
       "[     0, B1(r),    0,                  0],\n",
       "[     0,     0, r**2,                  0],\n",
       "[     0,     0,    0, r**2*sin(theta)**2]])"
      ]
     },
     "metadata": {},
     "output_type": "display_data"
    }
   ],
   "source": [
    "g1=pt.metric(ds1)"
   ]
  },
  {
   "cell_type": "code",
   "execution_count": 6,
   "id": "62040326",
   "metadata": {},
   "outputs": [],
   "source": [
    "ds2 = \"\"\"ds2 = (A1*H*dt**2 + B1*H*dr**2 + r**2*K*dtheta**2 + \n",
    "        r**2*K*sin(theta)**2*dphi**2)*0.5*(3*cos(theta)**2 - 1)\"\"\""
   ]
  },
  {
   "cell_type": "code",
   "execution_count": 7,
   "id": "043ea2eb",
   "metadata": {},
   "outputs": [
    {
     "name": "stdout",
     "output_type": "stream",
     "text": [
      "The metric has already been defined. Do you want to overwrite it? (yes/no)\n",
      "\n",
      "Dimension = 4\n",
      "Coordinates = t,r,theta,phi\n",
      "Metric defined successfully: \n",
      "\n"
     ]
    },
    {
     "data": {
      "text/latex": [
       "$\\displaystyle ds^2 = \\left(\\frac{3 A_{1}{\\left(r \\right)} H{\\left(r \\right)} \\cos^{2}{\\left(\\theta \\right)}}{2} - \\frac{A_{1}{\\left(r \\right)} H{\\left(r \\right)}}{2}\\right) \\cdot dt^2+\\left(\\frac{3 B_{1}{\\left(r \\right)} H{\\left(r \\right)} \\cos^{2}{\\left(\\theta \\right)}}{2} - \\frac{B_{1}{\\left(r \\right)} H{\\left(r \\right)}}{2}\\right) \\cdot dr^2+\\left(\\frac{3 r^{2} K{\\left(r \\right)} \\cos^{2}{\\left(\\theta \\right)}}{2} - \\frac{r^{2} K{\\left(r \\right)}}{2}\\right) \\cdot d\\theta^2+\\left(\\frac{3 r^{2} K{\\left(r \\right)} \\sin^{2}{\\left(\\theta \\right)} \\cos^{2}{\\left(\\theta \\right)}}{2} - \\frac{r^{2} K{\\left(r \\right)} \\sin^{2}{\\left(\\theta \\right)}}{2}\\right) \\cdot d\\phi^2$"
      ],
      "text/plain": [
       "<IPython.core.display.Math object>"
      ]
     },
     "metadata": {},
     "output_type": "display_data"
    },
    {
     "data": {
      "text/latex": [
       "$\\displaystyle \\left[\\begin{matrix}\\frac{3 A_{1}{\\left(r \\right)} H{\\left(r \\right)} \\cos^{2}{\\left(\\theta \\right)}}{2} - \\frac{A_{1}{\\left(r \\right)} H{\\left(r \\right)}}{2} & 0 & 0 & 0\\\\0 & \\frac{3 B_{1}{\\left(r \\right)} H{\\left(r \\right)} \\cos^{2}{\\left(\\theta \\right)}}{2} - \\frac{B_{1}{\\left(r \\right)} H{\\left(r \\right)}}{2} & 0 & 0\\\\0 & 0 & \\frac{3 r^{2} K{\\left(r \\right)} \\cos^{2}{\\left(\\theta \\right)}}{2} - \\frac{r^{2} K{\\left(r \\right)}}{2} & 0\\\\0 & 0 & 0 & \\frac{3 r^{2} K{\\left(r \\right)} \\sin^{2}{\\left(\\theta \\right)} \\cos^{2}{\\left(\\theta \\right)}}{2} - \\frac{r^{2} K{\\left(r \\right)} \\sin^{2}{\\left(\\theta \\right)}}{2}\\end{matrix}\\right]$"
      ],
      "text/plain": [
       "Matrix([\n",
       "[3*A1(r)*H(r)*cos(theta)**2/2 - A1(r)*H(r)/2,                                           0,                                         0,                                                                     0],\n",
       "[                                          0, 3*B1(r)*H(r)*cos(theta)**2/2 - B1(r)*H(r)/2,                                         0,                                                                     0],\n",
       "[                                          0,                                           0, 3*r**2*K(r)*cos(theta)**2/2 - r**2*K(r)/2,                                                                     0],\n",
       "[                                          0,                                           0,                                         0, 3*r**2*K(r)*sin(theta)**2*cos(theta)**2/2 - r**2*K(r)*sin(theta)**2/2]])"
      ]
     },
     "metadata": {},
     "output_type": "display_data"
    }
   ],
   "source": [
    "g2=pt.metric(ds2)"
   ]
  },
  {
   "cell_type": "code",
   "execution_count": 11,
   "id": "517f2efe",
   "metadata": {},
   "outputs": [
    {
     "data": {
      "text/latex": [
       "Christoffel $\\Gamma_{\\alpha \\beta \\gamma}$ and $\\Gamma^{\\alpha}_{\\beta \\gamma}$"
      ],
      "text/plain": [
       "<IPython.core.display.Latex object>"
      ]
     },
     "metadata": {},
     "output_type": "display_data"
    },
    {
     "data": {
      "application/vnd.jupyter.widget-view+json": {
       "model_id": "c0eb3df40e9a444ea8d88d1d0193531d",
       "version_major": 2,
       "version_minor": 0
      },
      "text/plain": [
       "  0%|          | 0/64 [00:00<?, ?it/s]"
      ]
     },
     "metadata": {},
     "output_type": "display_data"
    },
    {
     "data": {
      "text/latex": [
       "$\\displaystyle {\\Gamma}{}^{0}\\,{}_{0}\\,{}_{1}\\, = \\frac{A_{1}{\\left(r \\right)} \\frac{d}{d r} H{\\left(r \\right)} + H{\\left(r \\right)} \\frac{d}{d r} A_{1}{\\left(r \\right)}}{2 A_{1}{\\left(r \\right)} H{\\left(r \\right)}}$"
      ],
      "text/plain": [
       "<IPython.core.display.Math object>"
      ]
     },
     "metadata": {},
     "output_type": "display_data"
    },
    {
     "data": {
      "text/latex": [
       "$\\displaystyle {\\Gamma}{}^{0}\\,{}_{0}\\,{}_{2}\\, = - \\frac{3 \\sin{\\left(\\theta \\right)} \\cos{\\left(\\theta \\right)}}{3 \\cos^{2}{\\left(\\theta \\right)} - 1}$"
      ],
      "text/plain": [
       "<IPython.core.display.Math object>"
      ]
     },
     "metadata": {},
     "output_type": "display_data"
    },
    {
     "data": {
      "text/latex": [
       "$\\displaystyle {\\Gamma}{}^{0}\\,{}_{1}\\,{}_{0}\\, = \\frac{A_{1}{\\left(r \\right)} \\frac{d}{d r} H{\\left(r \\right)} + H{\\left(r \\right)} \\frac{d}{d r} A_{1}{\\left(r \\right)}}{2 A_{1}{\\left(r \\right)} H{\\left(r \\right)}}$"
      ],
      "text/plain": [
       "<IPython.core.display.Math object>"
      ]
     },
     "metadata": {},
     "output_type": "display_data"
    },
    {
     "data": {
      "text/latex": [
       "$\\displaystyle {\\Gamma}{}^{0}\\,{}_{2}\\,{}_{0}\\, = - \\frac{3 \\sin{\\left(\\theta \\right)} \\cos{\\left(\\theta \\right)}}{3 \\cos^{2}{\\left(\\theta \\right)} - 1}$"
      ],
      "text/plain": [
       "<IPython.core.display.Math object>"
      ]
     },
     "metadata": {},
     "output_type": "display_data"
    },
    {
     "data": {
      "text/latex": [
       "$\\displaystyle {\\Gamma}{}^{1}\\,{}_{0}\\,{}_{0}\\, = - \\frac{A_{1}{\\left(r \\right)} \\frac{d}{d r} H{\\left(r \\right)} + H{\\left(r \\right)} \\frac{d}{d r} A_{1}{\\left(r \\right)}}{2 B_{1}{\\left(r \\right)} H{\\left(r \\right)}}$"
      ],
      "text/plain": [
       "<IPython.core.display.Math object>"
      ]
     },
     "metadata": {},
     "output_type": "display_data"
    },
    {
     "data": {
      "text/latex": [
       "$\\displaystyle {\\Gamma}{}^{1}\\,{}_{1}\\,{}_{1}\\, = \\frac{B_{1}{\\left(r \\right)} \\frac{d}{d r} H{\\left(r \\right)} + H{\\left(r \\right)} \\frac{d}{d r} B_{1}{\\left(r \\right)}}{2 B_{1}{\\left(r \\right)} H{\\left(r \\right)}}$"
      ],
      "text/plain": [
       "<IPython.core.display.Math object>"
      ]
     },
     "metadata": {},
     "output_type": "display_data"
    },
    {
     "data": {
      "text/latex": [
       "$\\displaystyle {\\Gamma}{}^{1}\\,{}_{1}\\,{}_{2}\\, = - \\frac{3 \\sin{\\left(\\theta \\right)} \\cos{\\left(\\theta \\right)}}{3 \\cos^{2}{\\left(\\theta \\right)} - 1}$"
      ],
      "text/plain": [
       "<IPython.core.display.Math object>"
      ]
     },
     "metadata": {},
     "output_type": "display_data"
    },
    {
     "data": {
      "text/latex": [
       "$\\displaystyle {\\Gamma}{}^{1}\\,{}_{2}\\,{}_{1}\\, = - \\frac{3 \\sin{\\left(\\theta \\right)} \\cos{\\left(\\theta \\right)}}{3 \\cos^{2}{\\left(\\theta \\right)} - 1}$"
      ],
      "text/plain": [
       "<IPython.core.display.Math object>"
      ]
     },
     "metadata": {},
     "output_type": "display_data"
    },
    {
     "data": {
      "text/latex": [
       "$\\displaystyle {\\Gamma}{}^{1}\\,{}_{2}\\,{}_{2}\\, = - \\frac{r \\left(r \\frac{d}{d r} K{\\left(r \\right)} + 2 K{\\left(r \\right)}\\right)}{2 B_{1}{\\left(r \\right)} H{\\left(r \\right)}}$"
      ],
      "text/plain": [
       "<IPython.core.display.Math object>"
      ]
     },
     "metadata": {},
     "output_type": "display_data"
    },
    {
     "data": {
      "text/latex": [
       "$\\displaystyle {\\Gamma}{}^{1}\\,{}_{3}\\,{}_{3}\\, = - \\frac{r \\left(r \\frac{d}{d r} K{\\left(r \\right)} + 2 K{\\left(r \\right)}\\right) \\sin^{2}{\\left(\\theta \\right)}}{2 B_{1}{\\left(r \\right)} H{\\left(r \\right)}}$"
      ],
      "text/plain": [
       "<IPython.core.display.Math object>"
      ]
     },
     "metadata": {},
     "output_type": "display_data"
    },
    {
     "data": {
      "text/latex": [
       "$\\displaystyle {\\Gamma}{}^{2}\\,{}_{0}\\,{}_{0}\\, = \\frac{3 A_{1}{\\left(r \\right)} H{\\left(r \\right)} \\sin{\\left(\\theta \\right)} \\cos{\\left(\\theta \\right)}}{r^{2} \\cdot \\left(3 \\cos^{2}{\\left(\\theta \\right)} - 1\\right) K{\\left(r \\right)}}$"
      ],
      "text/plain": [
       "<IPython.core.display.Math object>"
      ]
     },
     "metadata": {},
     "output_type": "display_data"
    },
    {
     "data": {
      "text/latex": [
       "$\\displaystyle {\\Gamma}{}^{2}\\,{}_{1}\\,{}_{1}\\, = \\frac{3 B_{1}{\\left(r \\right)} H{\\left(r \\right)} \\sin{\\left(\\theta \\right)} \\cos{\\left(\\theta \\right)}}{r^{2} \\cdot \\left(3 \\cos^{2}{\\left(\\theta \\right)} - 1\\right) K{\\left(r \\right)}}$"
      ],
      "text/plain": [
       "<IPython.core.display.Math object>"
      ]
     },
     "metadata": {},
     "output_type": "display_data"
    },
    {
     "data": {
      "text/latex": [
       "$\\displaystyle {\\Gamma}{}^{2}\\,{}_{1}\\,{}_{2}\\, = \\frac{r \\frac{d}{d r} K{\\left(r \\right)} + 2 K{\\left(r \\right)}}{2 r K{\\left(r \\right)}}$"
      ],
      "text/plain": [
       "<IPython.core.display.Math object>"
      ]
     },
     "metadata": {},
     "output_type": "display_data"
    },
    {
     "data": {
      "text/latex": [
       "$\\displaystyle {\\Gamma}{}^{2}\\,{}_{2}\\,{}_{1}\\, = \\frac{r \\frac{d}{d r} K{\\left(r \\right)} + 2 K{\\left(r \\right)}}{2 r K{\\left(r \\right)}}$"
      ],
      "text/plain": [
       "<IPython.core.display.Math object>"
      ]
     },
     "metadata": {},
     "output_type": "display_data"
    },
    {
     "data": {
      "text/latex": [
       "$\\displaystyle {\\Gamma}{}^{2}\\,{}_{2}\\,{}_{2}\\, = - \\frac{3 \\sin{\\left(\\theta \\right)} \\cos{\\left(\\theta \\right)}}{3 \\cos^{2}{\\left(\\theta \\right)} - 1}$"
      ],
      "text/plain": [
       "<IPython.core.display.Math object>"
      ]
     },
     "metadata": {},
     "output_type": "display_data"
    },
    {
     "data": {
      "text/latex": [
       "$\\displaystyle {\\Gamma}{}^{2}\\,{}_{3}\\,{}_{3}\\, = - \\frac{\\left(- 3 \\sin^{2}{\\left(\\theta \\right)} + 3 \\cos^{2}{\\left(\\theta \\right)} - 1\\right) \\sin{\\left(\\theta \\right)} \\cos{\\left(\\theta \\right)}}{3 \\cos^{2}{\\left(\\theta \\right)} - 1}$"
      ],
      "text/plain": [
       "<IPython.core.display.Math object>"
      ]
     },
     "metadata": {},
     "output_type": "display_data"
    },
    {
     "data": {
      "text/latex": [
       "$\\displaystyle {\\Gamma}{}^{3}\\,{}_{1}\\,{}_{3}\\, = \\frac{r \\frac{d}{d r} K{\\left(r \\right)} + 2 K{\\left(r \\right)}}{2 r K{\\left(r \\right)}}$"
      ],
      "text/plain": [
       "<IPython.core.display.Math object>"
      ]
     },
     "metadata": {},
     "output_type": "display_data"
    },
    {
     "data": {
      "text/latex": [
       "$\\displaystyle {\\Gamma}{}^{3}\\,{}_{2}\\,{}_{3}\\, = \\frac{\\left(- 3 \\sin^{2}{\\left(\\theta \\right)} + 3 \\cos^{2}{\\left(\\theta \\right)} - 1\\right) \\cos{\\left(\\theta \\right)}}{\\left(3 \\cos^{2}{\\left(\\theta \\right)} - 1\\right) \\sin{\\left(\\theta \\right)}}$"
      ],
      "text/plain": [
       "<IPython.core.display.Math object>"
      ]
     },
     "metadata": {},
     "output_type": "display_data"
    },
    {
     "data": {
      "text/latex": [
       "$\\displaystyle {\\Gamma}{}^{3}\\,{}_{3}\\,{}_{1}\\, = \\frac{r \\frac{d}{d r} K{\\left(r \\right)} + 2 K{\\left(r \\right)}}{2 r K{\\left(r \\right)}}$"
      ],
      "text/plain": [
       "<IPython.core.display.Math object>"
      ]
     },
     "metadata": {},
     "output_type": "display_data"
    },
    {
     "data": {
      "text/latex": [
       "$\\displaystyle {\\Gamma}{}^{3}\\,{}_{3}\\,{}_{2}\\, = \\frac{\\left(- 3 \\sin^{2}{\\left(\\theta \\right)} + 3 \\cos^{2}{\\left(\\theta \\right)} - 1\\right) \\cos{\\left(\\theta \\right)}}{\\left(3 \\cos^{2}{\\left(\\theta \\right)} - 1\\right) \\sin{\\left(\\theta \\right)}}$"
      ],
      "text/plain": [
       "<IPython.core.display.Math object>"
      ]
     },
     "metadata": {},
     "output_type": "display_data"
    }
   ],
   "source": [
    "chr=pt.christoffel()\n",
    "chr.display('^,_,_',aslist=True)"
   ]
  },
  {
   "cell_type": "code",
   "execution_count": null,
   "id": "b295124a",
   "metadata": {},
   "outputs": [],
   "source": []
  },
  {
   "cell_type": "code",
   "execution_count": 13,
   "id": "c5111e65",
   "metadata": {},
   "outputs": [
    {
     "name": "stdout",
     "output_type": "stream",
     "text": [
      "Elements assigned correctly to the ^alpha,_beta,_gamma components\n",
      "All components are zero\n"
     ]
    }
   ],
   "source": [
    "delta_Christoffel=pt.ten(\"DeltaGamma\",3)\n",
    "val=0.5*g1(\"^alpha,^sigma\")*(pt.C(g2(\"_beta,_sigma\"),\"_gamma\")+pt.C(g2(\"_gamma,_sigma\"),\"_beta\")-pt.C(g2(\"_beta,_gamma\"),\"_sigma\"))\n",
    "delta_Christoffel.assign(val, \"^alpha,_beta,_gamma\")\n",
    "delta_Christoffel.simplify()\n",
    "delta_Christoffel.display(\"^,_,_\",aslist=True)\n"
   ]
  },
  {
   "cell_type": "code",
   "execution_count": null,
   "id": "781ec6f1",
   "metadata": {},
   "outputs": [],
   "source": []
  }
 ],
 "metadata": {
  "kernelspec": {
   "display_name": "Python 3 (ipykernel)",
   "language": "python",
   "name": "python3"
  },
  "language_info": {
   "codemirror_mode": {
    "name": "ipython",
    "version": 3
   },
   "file_extension": ".py",
   "mimetype": "text/x-python",
   "name": "python",
   "nbconvert_exporter": "python",
   "pygments_lexer": "ipython3",
   "version": "3.10.7"
  }
 },
 "nbformat": 4,
 "nbformat_minor": 5
}
